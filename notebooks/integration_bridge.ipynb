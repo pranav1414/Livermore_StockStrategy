import os
import runpy
import re

# 🔹 Helper: Run a notebook by converting it to .py first
def run_notebook(ipynb_path):
    py_path = ipynb_path.replace(".ipynb", ".py")
    os.system(f'jupyter nbconvert --to script "{ipynb_path}" --output "{os.path.splitext(os.path.basename(py_path))[0]}"')
    namespace = runpy.run_path(py_path)
    return namespace

# 📌 1️⃣ Load your RAG notebook (Livermore psychology)
rag_ns = run_notebook("modules\livermore_rag_setup.py")
get_livermore_answer = rag_ns['get_livermore_answer']

# 📌 2️⃣ Load professor's stock analysis notebook
prof_ns = run_notebook("modules\JesseLivermore_Assignment_Final.py")
get_stock_signal = prof_ns['get_stock_signal']

# 📌 3️⃣ Extract ticker from question
def extract_ticker(question):
    match = re.search(r"\b[A-Z]{2,5}\b", question)
    return match.group(0) if match else None

# 📌 4️⃣ Generic Stock Analysis
def generic_stock_analysis(ticker):
    signal_data = get_stock_signal(ticker)
    price = signal_data['price']
    signal = signal_data['signal']
    return f"{ticker} is trading at ${price:.2f}. Based on 50-day and 200-day moving averages, the technical signal is: {signal}."

# 📌 5️⃣ Livermore's Auto-Commentary with STRICT Decision
def livermore_stock_commentary(ticker):
    signal_data = get_stock_signal(ticker)
    stock_context = f"""
    [Stock Analysis]
    Ticker: {ticker}
    Current Price: {signal_data['price']}
    Technical Signal: {signal_data['signal']}
    """
    prompt = f"""
    You are Jesse Livermore.

    Use the stock data below and your trading principles to answer.

    {stock_context}

    🔹 You MUST give a strict recommendation:
    - BUY, SELL, or HOLD this stock RIGHT NOW.
    - Base it on the signal and your trading philosophy (trend, tape reading, confirmation).

    🔹 Format your answer as:
    1️⃣ Decision (BUY/SELL/HOLD)
    2️⃣ Short-term reasoning (technical)
    3️⃣ Long-term reasoning (Livermore psychology)
    4️⃣ Final action to take immediately
    """
    return get_livermore_answer(prompt)

# 📌 6️⃣ Combined function for chat
def chat_with_livermore(question):
    ticker = extract_ticker(question)
    if ticker:
        # ✅ Combine generic analysis + Livermore's commentary
        generic = generic_stock_analysis(ticker)
        livermore_comment = livermore_stock_commentary(ticker)
        return f"{generic}\n\n{livermore_comment}"
    return get_livermore_answer(question)

# 📌 7️⃣ Tests
print(chat_with_livermore("Should I buy AMZN right now?"))
print(chat_with_livermore("Is MSFT overbought or oversold?"))

# 📌 8️⃣ Test pure psychology (no ticker)
print(chat_with_livermore("What does Livermore say about patience in trading?"))
